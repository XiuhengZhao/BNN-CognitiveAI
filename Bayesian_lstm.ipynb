{
 "cells": [
  {
   "cell_type": "code",
   "execution_count": 63,
   "metadata": {},
   "outputs": [],
   "source": [
    "import os\n",
    "import random\n",
    "from collections import Counter\n",
    "import pandas as pd\n",
    "import torch\n",
    "import torch.nn as nn\n",
    "import torch.optim as optim\n",
    "from torchvision import transforms, datasets, models\n",
    "from torch.utils.data import DataLoader, Dataset,random_split,SubsetRandomSampler, WeightedRandomSampler\n",
    "from tqdm import tqdm\n",
    "import numpy as np\n",
    "import pyro\n",
    "import pyro.distributions as dist\n",
    "from pyro.infer import SVI, Trace_ELBO\n",
    "from pyro.optim import Adam"
   ]
  },
  {
   "cell_type": "code",
   "execution_count": 64,
   "metadata": {},
   "outputs": [],
   "source": [
    "from matplotlib import pyplot as plt"
   ]
  },
  {
   "cell_type": "code",
   "execution_count": 65,
   "metadata": {},
   "outputs": [],
   "source": [
    "def seed_everything(seed=3407): # The torch.manual_seed(3407) is all you need! xD\n",
    "    \"\"\"\n",
    "    Seed everything to make all operations in PyTorch (and other libraries) deterministic.\n",
    "    Args:\n",
    "        seed (int): Seed value to set.\n",
    "    \"\"\"\n",
    "    random.seed(seed)\n",
    "    os.environ['PYTHONHASHSEED'] = str(seed)\n",
    "    np.random.seed(seed)\n",
    "    torch.manual_seed(seed)\n",
    "    torch.cuda.manual_seed(seed)\n",
    "    torch.cuda.manual_seed_all(seed)  # if you are using multi-GPU.\n",
    "    torch.backends.cudnn.deterministic = True\n",
    "    torch.backends.cudnn.benchmark = False\n",
    "seed_everything()"
   ]
  },
  {
   "cell_type": "code",
   "execution_count": 66,
   "metadata": {},
   "outputs": [],
   "source": [
    "class SequenceDataset(Dataset):\n",
    "    def __init__(self, dataframe):\n",
    "        self.dataframe = dataframe\n",
    "\n",
    "    def __len__(self):\n",
    "        return len(self.dataframe)\n",
    "\n",
    "    def __getitem__(self, idx):\n",
    "        x_cont = torch.tensor(self.dataframe.iloc[idx]['X_cont'], dtype=torch.float32)\n",
    "\n",
    "        other_cols = self.dataframe.drop(columns=['label', 'X_cont','Unit1'])\n",
    "        x_other = torch.tensor(other_cols.iloc[idx].values, dtype=torch.float32)\n",
    "\n",
    "        label = torch.tensor(self.dataframe.iloc[idx]['label'], dtype=torch.long)\n",
    "        \n",
    "        return x_cont, x_other, label"
   ]
  },
  {
   "cell_type": "code",
   "execution_count": 67,
   "metadata": {},
   "outputs": [],
   "source": [
    "class BayesianLSTM(nn.Module):\n",
    "    def __init__(self, dyn_channels=5, stat_channels=32, hidden_size=50, num_layers=2):\n",
    "        super(BayesianLSTM, self).__init__()\n",
    "        # lstm part\n",
    "        self.hidden_size = hidden_size\n",
    "        self.num_layers = num_layers\n",
    "        self.lstm = nn.LSTM(dyn_channels, hidden_size, num_layers, batch_first=True)\n",
    "        self.relu = nn.ReLU()\n",
    "        self.fc1 = nn.Linear(hidden_size, 25)\n",
    "        self.fc2 = nn.Linear(25, 15)\n",
    "        \n",
    "        # fc part\n",
    "        self.fc_static1 = nn.Linear(stat_channels,30)\n",
    "        self.fc_static2 = nn.Linear(30,15)\n",
    "        \n",
    "        # fusion part\n",
    "        self.fc_final1 = nn.Linear(30,2)\n",
    "        self.log_softmax = nn.LogSoftmax(dim=1)\n",
    "        self.softmax = nn.Softmax(dim=-1)\n",
    "\n",
    "    def forward(self, x_dynamic, x_static):\n",
    "        h0 = torch.zeros(self.num_layers, x_dynamic.size(0), self.hidden_size).to(x_dynamic.device)\n",
    "        c0 = torch.zeros(self.num_layers, x_dynamic.size(0), self.hidden_size).to(x_dynamic.device)\n",
    "        out1, _ = self.lstm(x_dynamic, (h0, c0))\n",
    "        out1 = self.relu(self.fc1(out1[:, -1, :]))\n",
    "        out1 = self.relu(self.fc2(out1))\n",
    "        \n",
    "        out2 = self.relu(self.fc_static1(x_static))\n",
    "        out2 = self.relu(self.fc_static2(out2))\n",
    "        \n",
    "        out = torch.cat((out1, out2), dim=1)\n",
    "        out = self.fc_final1(out)\n",
    "        \n",
    "        return out\n",
    "device = 'cpu'\n",
    "net = BayesianLSTM(dyn_channels=5, stat_channels=32, hidden_size=50, num_layers=2).to(device)\n",
    "log_softmax = nn.LogSoftmax(dim=1)\n",
    "def model(x_dynamic, x_static, y=None):\n",
    "        # Define prior distributions for all neural network weights\n",
    "        lstm_weightih0_prior = dist.Normal(loc=torch.zeros_like(net.lstm.weight_ih_l0), scale=5*torch.ones_like(net.lstm.weight_ih_l0)).to_event(2)\n",
    "        lstm_biasih0_prior = dist.Normal(loc=torch.zeros_like(net.lstm.bias_ih_l0), scale=5*torch.ones_like(net.lstm.bias_ih_l0)).to_event(1)\n",
    "        lstm_weightih1_prior = dist.Normal(loc=torch.zeros_like(net.lstm.weight_ih_l1), scale=5*torch.ones_like(net.lstm.weight_ih_l1)).to_event(2)\n",
    "        lstm_biasih1_prior = dist.Normal(loc=torch.zeros_like(net.lstm.bias_ih_l1), scale=5*torch.ones_like(net.lstm.bias_ih_l1)).to_event(1)\n",
    "        lstm_weighthh0_prior = dist.Normal(loc=torch.zeros_like(net.lstm.weight_hh_l0), scale=5*torch.ones_like(net.lstm.weight_hh_l0)).to_event(2)\n",
    "        lstm_biashh0_prior = dist.Normal(loc=torch.zeros_like(net.lstm.bias_hh_l0), scale=5*torch.ones_like(net.lstm.bias_hh_l0)).to_event(1)\n",
    "        lstm_weighthh1_prior = dist.Normal(loc=torch.zeros_like(net.lstm.weight_hh_l1), scale=5*torch.ones_like(net.lstm.weight_hh_l1)).to_event(2)\n",
    "        lstm_biashh1_prior = dist.Normal(loc=torch.zeros_like(net.lstm.bias_hh_l1), scale=5*torch.ones_like(net.lstm.bias_hh_l1)).to_event(1)\n",
    "        #lstm_weighthr0_prior = dist.Normal(loc=torch.zeros_like(self.lstm.weight_hr_l0), scale=torch.ones_like(self.lstm.weight_hr_l0))\n",
    "        #lstm_biashr0_prior = dist.Normal(loc=torch.zeros_like(self.lstm.bias_hr_l0), scale=torch.ones_like(self.lstm.bias_hr_l0))\n",
    "        #lstm_weighthr1_prior = dist.Normal(loc=torch.zeros_like(self.lstm.weight_hr_l1), scale=torch.ones_like(self.lstm.weight_hr_l1))\n",
    "        #lstm_biashr1_prior = dist.Normal(loc=torch.zeros_like(self.lstm.bias_hr_l1), scale=torch.ones_like(self.lstm.bias_hr_l1))\n",
    "        fc1w_prior = dist.Normal(loc=torch.zeros_like(net.fc1.weight), scale=5*torch.ones_like(net.fc1.weight)).to_event(2)\n",
    "        fc1b_prior = dist.Normal(loc=torch.zeros_like(net.fc1.bias), scale=5*torch.ones_like(net.fc1.bias)).to_event(1)\n",
    "        fc2w_prior = dist.Normal(loc=torch.zeros_like(net.fc2.weight), scale=5*torch.ones_like(net.fc2.weight)).to_event(2)\n",
    "        fc2b_prior = dist.Normal(loc=torch.zeros_like(net.fc2.bias), scale=5*torch.ones_like(net.fc2.bias)).to_event(1)\n",
    "        fc_static1w_prior = dist.Normal(loc=torch.zeros_like(net.fc_static1.weight), scale=5*torch.ones_like(net.fc_static1.weight)).to_event(2)\n",
    "        fc_static1b_prior = dist.Normal(loc=torch.zeros_like(net.fc_static1.bias), scale=5*torch.ones_like(net.fc_static1.bias)).to_event(1)\n",
    "        fc_static2w_prior = dist.Normal(loc=torch.zeros_like(net.fc_static2.weight), scale=5*torch.ones_like(net.fc_static2.weight)).to_event(2)\n",
    "        fc_static2b_prior = dist.Normal(loc=torch.zeros_like(net.fc_static2.bias), scale=5*torch.ones_like(net.fc_static2.bias)).to_event(1)\n",
    "        fc_final1w_prior = dist.Normal(loc=torch.zeros_like(net.fc_final1.weight), scale=5*torch.ones_like(net.fc_final1.weight)).to_event(2)\n",
    "        fc_final1b_prior = dist.Normal(loc=torch.zeros_like(net.fc_final1.bias), scale=5*torch.ones_like(net.fc_final1.bias)).to_event(1)\n",
    "        \n",
    "        \n",
    "        model_priors = {\n",
    "            'lstm.weight_ih_l0': lstm_weightih0_prior, 'lstm.bias_ih_l0': lstm_biasih0_prior,\n",
    "            'lstm.weight_ih_l1': lstm_weightih1_prior, 'lstm.bias_ih_l1': lstm_biasih1_prior,\n",
    "            'lstm.weight_hh_l0': lstm_weighthh0_prior, 'lstm.bias_hh_l0': lstm_biashh0_prior,\n",
    "            'lstm.weight_hh_l1': lstm_weighthh1_prior, 'lstm.bias_hh_l1': lstm_biashh1_prior,\n",
    "            #'lstm.weight_hr_l0': lstm_weighthr0_prior, 'lstm.bias_hr_l0': lstm_biashr0_prior,\n",
    "            #'lstm.weight_hr_l1': lstm_weighthr1_prior, 'lstm.bias_hr_l1': lstm_biashr1_prior,\n",
    "            'fc1.weight': fc1w_prior, 'fc1.bias': fc1b_prior,\n",
    "            'fc2.weight': fc2w_prior, 'fc2.bias': fc2b_prior,\n",
    "            'fc_static1.weight': fc_static1w_prior, 'fc_static1.bias': fc_static1b_prior,\n",
    "            'fc_static2.weight': fc_static2w_prior, 'fc_static2.bias': fc_static2b_prior,\n",
    "            #'fc_static3.weight': fc_static3w_prior, 'fc_static3.bias': fc_static3b_prior,\n",
    "            'fc_final1.weight': fc_final1w_prior, 'fc_final1.bias': fc_final1b_prior,\n",
    "            #'fc_final2.weight': fc_final2w_prior, 'fc_final2.bias': fc_final2b_prior\n",
    "        }\n",
    "        lifted_module = pyro.random_module(\"module\", net, model_priors)  # Lift module parameters to random variables\n",
    "        lifted_reg_model = lifted_module()\n",
    "        #with pyro.plate(\"data\", x_dynamic.size(0)):\n",
    "        lhat = log_softmax(lifted_reg_model(x_dynamic, x_static))\n",
    "        if y is not None:\n",
    "                y = y.float()  \n",
    "        pyro.sample(\"obs\", dist.Categorical(logits=lhat).to_event(1), obs=y)\n",
    "        return lhat\n",
    "        \n",
    "\n",
    "# Defining the guide function for variational inference\n",
    "softplus = torch.nn.Softplus()\n",
    "def guide(x_dynamic, x_static, y=None):\n",
    "        # Define variational distributions for the parameters (learnable)\n",
    "        #softplus = torch.nn.Softplus()\n",
    "        lstm_weightih0_mu = torch.randn_like(net.lstm.weight_ih_l0)\n",
    "        lstm_weightih0_sigma = torch.randn_like(net.lstm.weight_ih_l0)\n",
    "        lstm_weightih0_mu_param = pyro.param(\"lstm_weightih0_mu\", lstm_weightih0_mu)\n",
    "        lstm_weightih0_sigma_param = softplus(pyro.param(\"lstm_weightih0_sigma\", lstm_weightih0_sigma))\n",
    "        lstm_weightih0_prior = dist.Normal(loc=lstm_weightih0_mu_param, scale=lstm_weightih0_sigma_param).to_event(2)\n",
    "        lstm_biasih0_mu = torch.randn_like(net.lstm.bias_ih_l0)\n",
    "        lstm_biasih0_sigma = torch.randn_like(net.lstm.bias_ih_l0)\n",
    "        lstm_biasih0_mu_param = pyro.param(\"lstm_biasih0_mu\", lstm_biasih0_mu)\n",
    "        lstm_biasih0_sigma_param = softplus(pyro.param(\"lstm_biasih0_sigma\", lstm_biasih0_sigma))\n",
    "        lstm_biasih0_prior = dist.Normal(loc=lstm_biasih0_mu_param, scale=lstm_biasih0_sigma_param).to_event(1)\n",
    "\n",
    "        lstm_weightih1_mu = torch.randn_like(net.lstm.weight_ih_l1)\n",
    "        lstm_weightih1_sigma = torch.randn_like(net.lstm.weight_ih_l1)\n",
    "        lstm_weightih1_mu_param = pyro.param(\"lstm_weightih1_mu\", lstm_weightih1_mu)\n",
    "        lstm_weightih1_sigma_param = softplus(pyro.param(\"lstm_weightih1_sigma\", lstm_weightih1_sigma))\n",
    "        lstm_weightih1_prior = dist.Normal(loc=lstm_weightih1_mu_param, scale=lstm_weightih1_sigma_param).to_event(2)\n",
    "        lstm_biasih1_mu = torch.randn_like(net.lstm.bias_ih_l1)\n",
    "        lstm_biasih1_sigma = torch.randn_like(net.lstm.bias_ih_l1)\n",
    "        lstm_biasih1_mu_param = pyro.param(\"lstm_biasih1_mu\", lstm_biasih1_mu)\n",
    "        lstm_biasih1_sigma_param = softplus(pyro.param(\"lstm_biasih1_sigma\", lstm_biasih1_sigma))\n",
    "        lstm_biasih1_prior = dist.Normal(loc=lstm_biasih1_mu_param, scale=lstm_biasih1_sigma_param).to_event(1)\n",
    "\n",
    "        lstm_weighthh0_mu = torch.randn_like(net.lstm.weight_hh_l0)\n",
    "        lstm_weighthh0_sigma = torch.randn_like(net.lstm.weight_hh_l0)\n",
    "        lstm_weighthh0_mu_param = pyro.param(\"lstm_weighthh0_mu\", lstm_weighthh0_mu)\n",
    "        lstm_weighthh0_sigma_param = softplus(pyro.param(\"lstm_weighthh0_sigma\", lstm_weighthh0_sigma))\n",
    "        lstm_weighthh0_prior = dist.Normal(loc=lstm_weighthh0_mu_param, scale=lstm_weighthh0_sigma_param).to_event(2)\n",
    "        lstm_biashh0_mu = torch.randn_like(net.lstm.bias_hh_l0)\n",
    "        lstm_biashh0_sigma = torch.randn_like(net.lstm.bias_hh_l0)\n",
    "        lstm_biashh0_mu_param = pyro.param(\"lstm_biashh0_mu\", lstm_biashh0_mu)\n",
    "        lstm_biashh0_sigma_param = softplus(pyro.param(\"lstm_biashh0_sigma\", lstm_biashh0_sigma))\n",
    "        lstm_biashh0_prior = dist.Normal(loc=lstm_biashh0_mu_param, scale=lstm_biashh0_sigma_param).to_event(1)\n",
    "\n",
    "        lstm_weighthh1_mu = torch.randn_like(net.lstm.weight_hh_l1)\n",
    "        lstm_weighthh1_sigma = torch.randn_like(net.lstm.weight_hh_l1)\n",
    "        lstm_weighthh1_mu_param = pyro.param(\"lstm_weighthh1_mu\", lstm_weighthh1_mu)\n",
    "        lstm_weighthh1_sigma_param = softplus(pyro.param(\"lstm_weighthh1_sigma\", lstm_weighthh1_sigma))\n",
    "        lstm_weighthh1_prior = dist.Normal(loc=lstm_weighthh1_mu_param, scale=lstm_weighthh1_sigma_param).to_event(2)\n",
    "        lstm_biashh1_mu = torch.randn_like(net.lstm.bias_hh_l1)\n",
    "        lstm_biashh1_sigma = torch.randn_like(net.lstm.bias_hh_l1)\n",
    "        lstm_biashh1_mu_param = pyro.param(\"lstm_biashh1_mu\", lstm_biashh1_mu)\n",
    "        lstm_biashh1_sigma_param = softplus(pyro.param(\"lstm_biashh1_sigma\", lstm_biashh1_sigma))\n",
    "        lstm_biashh1_prior = dist.Normal(loc=lstm_biashh1_mu_param, scale=lstm_biashh1_sigma_param).to_event(1)\n",
    "        \n",
    "        fc1w_mu = torch.randn_like(net.fc1.weight)\n",
    "        fc1w_sigma = torch.randn_like(net.fc1.weight)\n",
    "        fc1w_mu_param = pyro.param(\"fc1w_mu\", fc1w_mu)\n",
    "        fc1w_sigma_param = softplus(pyro.param(\"fc1w_sigma\", fc1w_sigma))\n",
    "        fc1w_prior = dist.Normal(loc=fc1w_mu_param, scale=fc1w_sigma_param).to_event(2)\n",
    "        fc1b_mu = torch.randn_like(net.fc1.bias)\n",
    "        fc1b_sigma = torch.randn_like(net.fc1.bias)\n",
    "        fc1b_mu_param = pyro.param(\"fc1b_mu\", fc1b_mu)\n",
    "        fc1b_sigma_param = softplus(pyro.param(\"fc1b_sigma\", fc1b_sigma))\n",
    "        fc1b_prior = dist.Normal(loc=fc1b_mu_param, scale=fc1b_sigma_param).to_event(1)\n",
    "\n",
    "        fc2w_mu = torch.randn_like(net.fc2.weight)\n",
    "        fc2w_sigma = torch.randn_like(net.fc2.weight)\n",
    "        fc2w_mu_param = pyro.param(\"fc2w_mu\", fc2w_mu)\n",
    "        fc2w_sigma_param = softplus(pyro.param(\"fc2w_sigma\", fc2w_sigma))\n",
    "        fc2w_prior = dist.Normal(loc=fc2w_mu_param, scale=fc2w_sigma_param).to_event(2)\n",
    "        fc2b_mu = torch.randn_like(net.fc2.bias)\n",
    "        fc2b_sigma = torch.randn_like(net.fc2.bias)\n",
    "        fc2b_mu_param = pyro.param(\"fc2b_mu\", fc2b_mu)\n",
    "        fc2b_sigma_param = softplus(pyro.param(\"fc2b_sigma\", fc2b_sigma))\n",
    "        fc2b_prior = dist.Normal(loc=fc2b_mu_param, scale=fc2b_sigma_param).to_event(1)\n",
    "\n",
    "        fc_static1w_mu = torch.randn_like(net.fc_static1.weight)\n",
    "        fc_static1w_sigma = torch.randn_like(net.fc_static1.weight)\n",
    "        fc_static1w_mu_param = pyro.param(\"fc_static1w_mu\", fc_static1w_mu)\n",
    "        fc_static1w_sigma_param = softplus(pyro.param(\"fc_static1w_sigma\", fc_static1w_sigma))\n",
    "        fc_static1w_prior = dist.Normal(loc=fc_static1w_mu_param, scale=fc_static1w_sigma_param).to_event(2)\n",
    "        fc_static1b_mu = torch.randn_like(net.fc_static1.bias)\n",
    "        fc_static1b_sigma = torch.randn_like(net.fc_static1.bias)\n",
    "        fc_static1b_mu_param = pyro.param(\"fc_static1b_mu\", fc_static1b_mu)\n",
    "        fc_static1b_sigma_param = softplus(pyro.param(\"fc_static1b_sigma\", fc_static1b_sigma))\n",
    "        fc_static1b_prior = dist.Normal(loc=fc_static1b_mu_param, scale=fc_static1b_sigma_param).to_event(1)\n",
    "\n",
    "        fc_static2w_mu = torch.randn_like(net.fc_static2.weight)\n",
    "        fc_static2w_sigma = torch.randn_like(net.fc_static2.weight)\n",
    "        fc_static2w_mu_param = pyro.param(\"fc_static2w_mu\", fc_static2w_mu)\n",
    "        fc_static2w_sigma_param = softplus(pyro.param(\"fc_static2w_sigma\", fc_static2w_sigma))\n",
    "        fc_static2w_prior = dist.Normal(loc=fc_static2w_mu_param, scale=fc_static2w_sigma_param).to_event(2)\n",
    "        fc_static2b_mu = torch.randn_like(net.fc_static2.bias)\n",
    "        fc_static2b_sigma = torch.randn_like(net.fc_static2.bias)\n",
    "        fc_static2b_mu_param = pyro.param(\"fc_static2b_mu\", fc_static2b_mu)\n",
    "        fc_static2b_sigma_param = softplus(pyro.param(\"fc_static2b_sigma\", fc_static2b_sigma))\n",
    "        fc_static2b_prior = dist.Normal(loc=fc_static2b_mu_param, scale=fc_static2b_sigma_param).to_event(1)\n",
    "        \n",
    "\n",
    "        fc_final1w_mu = torch.randn_like(net.fc_final1.weight)\n",
    "        fc_final1w_sigma = torch.randn_like(net.fc_final1.weight)\n",
    "        fc_final1w_mu_param = pyro.param(\"fc_final1w_mu\", fc_final1w_mu)\n",
    "        fc_final1w_sigma_param = softplus(pyro.param(\"fc_final1w_sigma\", fc_final1w_sigma))\n",
    "        fc_final1w_prior = dist.Normal(loc=fc_final1w_mu_param, scale=fc_final1w_sigma_param).to_event(2)\n",
    "        fc_final1b_mu = torch.randn_like(net.fc_final1.bias)\n",
    "        fc_final1b_sigma = torch.randn_like(net.fc_final1.bias)\n",
    "        fc_final1b_mu_param = pyro.param(\"fc_final1b_mu\", fc_final1b_mu)\n",
    "        fc_final1b_sigma_param = softplus(pyro.param(\"fc_final1b_sigma\", fc_final1b_sigma))\n",
    "        fc_final1b_prior = dist.Normal(loc=fc_final1b_mu_param, scale=fc_final1b_sigma_param).to_event(1)\n",
    "        \n",
    "        guide_priors = {'lstm.weight_ih_l0': lstm_weightih0_prior, 'lstm.bias_ih_l0': lstm_biasih0_prior,'lstm.weight_ih_l1': lstm_weightih1_prior, 'lstm.bias_ih_l1': lstm_biasih1_prior,\n",
    "                    'lstm.weight_hh_l0': lstm_weighthh0_prior, 'lstm.bias_hh_l0': lstm_biashh0_prior,'lstm.weight_hh_l1': lstm_weighthh1_prior, 'lstm.bias_hh_l1': lstm_biashh1_prior,\n",
    "                    #'lstm.weight_hr_l0': lstm_weighthr0_prior, 'lstm.bias_hr_l0': lstm_biashr0_prior,'lstm.weight_hr_l1': lstm_weighthr1_prior, 'lstm.bias_hr_l1': lstm_biashr1_prior,\n",
    "                    'fc1.weight': fc1w_prior, 'fc1.bias': fc1b_prior, 'fc2.weight': fc2w_prior, 'fc2.bias': fc2b_prior, 'fc_static1.weight': fc_static1w_prior, 'fc_static1.bias': fc_static1b_prior,'fc_static2.weight': fc_static2w_prior, 'fc_static2.bias': fc_static2b_prior,\n",
    "                    'fc_final1.weight': fc_final1w_prior, 'fc_final1.bias': fc_final1b_prior}\n",
    "        lifted_module = pyro.random_module(\"module\", net, guide_priors)  # Lift module parameters to random variables\n",
    "        return lifted_module()"
   ]
  },
  {
   "cell_type": "code",
   "execution_count": 68,
   "metadata": {},
   "outputs": [],
   "source": [
    "trainval_df = pd.read_pickle('train.pkl').reset_index(drop=True)\n",
    "        \n",
    "class_0 = trainval_df[trainval_df['label'] == 0]\n",
    "class_1 = trainval_df[trainval_df['label'] == 1]\n",
    "n_samples = len(class_1) \n",
    "class_0_downsampled = class_0.sample(n_samples)\n",
    "df_balanced = pd.concat([class_0_downsampled, class_1])\n",
    "train_df = df_balanced.reset_index(drop=True)\n",
    "      \n",
    "N = len(train_df)\n",
    "train_df = train_df.sample(frac=1).reset_index(drop=True)\n",
    "val = train_df[:int(N*0.2)]\n",
    "train_df = train_df[int(N*0.2):]\n",
    "train_df.fillna(value=np.pi, inplace=True)\n",
    "val.fillna(value=np.pi, inplace=True)"
   ]
  },
  {
   "cell_type": "code",
   "execution_count": 69,
   "metadata": {},
   "outputs": [
    {
     "name": "stdout",
     "output_type": "stream",
     "text": [
      "(28245, 35)\n",
      "(7061, 35)\n"
     ]
    }
   ],
   "source": [
    "print(train_df.shape)\n",
    "print(val.shape)"
   ]
  },
  {
   "cell_type": "code",
   "execution_count": 70,
   "metadata": {},
   "outputs": [
    {
     "name": "stdout",
     "output_type": "stream",
     "text": [
      "Using 8 dataloader workers every process\n",
      "using 28245 samples for training, 7061 samples for validation.\n"
     ]
    }
   ],
   "source": [
    "train_dataset = SequenceDataset(train_df)\n",
    "valid_dataset = SequenceDataset(val)\n",
    "train_num = len(train_dataset)\n",
    "val_num = len(valid_dataset)\n",
    "batch_size=20\n",
    "nw = min([os.cpu_count(), batch_size if batch_size > 1 else 0, 8])  # number of workers\n",
    "print('Using {} dataloader workers every process'.format(nw))\n",
    "    \n",
    "train_loader = torch.utils.data.DataLoader(train_dataset,\n",
    "                                               batch_size=batch_size,\n",
    "                                               num_workers=nw, shuffle = True, drop_last=True)\n",
    "valid_loader = torch.utils.data.DataLoader(valid_dataset,\n",
    "                                                  batch_size=batch_size, shuffle=False,\n",
    "                                                  num_workers=nw, drop_last=True)\n",
    "\n",
    "print(\"using {} samples for training, {} samples for validation.\".format(train_num,\n",
    "                                                                           val_num))"
   ]
  },
  {
   "cell_type": "code",
   "execution_count": 71,
   "metadata": {},
   "outputs": [
    {
     "name": "stdout",
     "output_type": "stream",
     "text": [
      "torch.Size([10, 5])\n",
      "torch.Size([32])\n",
      "tensor(0)\n",
      "torch.Size([20, 10, 5])\n",
      "torch.Size([20, 32])\n",
      "torch.Size([20])\n"
     ]
    }
   ],
   "source": [
    "sample = train_dataset[0]\n",
    "print(sample[0].shape)\n",
    "print(sample[1].shape)\n",
    "print(sample[2])\n",
    "for x_dynamic, x_static, y in train_loader:\n",
    "    print(x_dynamic.shape)\n",
    "    print(x_static.shape)\n",
    "    print(y.shape)\n",
    "    break"
   ]
  },
  {
   "cell_type": "code",
   "execution_count": 72,
   "metadata": {},
   "outputs": [
    {
     "data": {
      "text/plain": [
       "'\\nfrom pyro.infer import Predictive\\ndef predict(x_dynamic, x_static, model, guide, num_samples=100):\\n    predictive = Predictive(model, guide=guide, num_samples=num_samples, return_sites=[\"obs\", \"_RETURN\"])\\n    svi_samples = predictive(x_dynamic, x_static)\\n    #print(svi_samples)\\n    if \\'_RETURN\\' in svi_samples:\\n        predictions = torch.stack([svi_samples[\\'_RETURN\\'][i] for i in range(num_samples)])\\n    else:\\n        predictions = torch.stack([svi_samples[\\'obs\\'][i].float() for i in range(num_samples)])\\n    predicted_probabilities = torch.mean(predictions, dim=0)\\n    predicted_labels = predicted_probabilities.argmax(dim=-1)\\n    return predicted_labels'"
      ]
     },
     "execution_count": 72,
     "metadata": {},
     "output_type": "execute_result"
    }
   ],
   "source": [
    "num_samples = 5\n",
    "\n",
    "def predict(x_dynamic, x_static):\n",
    "    sampled_models = [guide(None, None) for _ in range(num_samples)]\n",
    "    yhats = [model(x_dynamic, x_static).data for model in sampled_models]\n",
    "    mean = torch.mean(torch.stack(yhats), 0)\n",
    "    #print(mean.numpy())\n",
    "    return np.argmax(mean.numpy(), axis=1)#(mean > 0.5).float().reshape(-1)'''\n",
    "'''\n",
    "from pyro.infer import Predictive\n",
    "def predict(x_dynamic, x_static, model, guide, num_samples=100):\n",
    "    predictive = Predictive(model, guide=guide, num_samples=num_samples, return_sites=[\"obs\", \"_RETURN\"])\n",
    "    svi_samples = predictive(x_dynamic, x_static)\n",
    "    #print(svi_samples)\n",
    "    if '_RETURN' in svi_samples:\n",
    "        predictions = torch.stack([svi_samples['_RETURN'][i] for i in range(num_samples)])\n",
    "    else:\n",
    "        predictions = torch.stack([svi_samples['obs'][i].float() for i in range(num_samples)])\n",
    "    predicted_probabilities = torch.mean(predictions, dim=0)\n",
    "    predicted_labels = predicted_probabilities.argmax(dim=-1)\n",
    "    return predicted_labels'''"
   ]
  },
  {
   "cell_type": "code",
   "execution_count": 73,
   "metadata": {},
   "outputs": [],
   "source": [
    "def train(model, guide, train_loader, valid_loader, num_epochs=30):\n",
    "    \n",
    "    optim = Adam({\"lr\":1e-3})\n",
    "    svi = SVI(model, guide, optim, loss=Trace_ELBO())\n",
    "    train_loss_list = []\n",
    "    train_acc_list = []\n",
    "    valid_loss_list = []\n",
    "    valid_acc_list = []\n",
    "    #model.train()\n",
    "    for epoch in range(num_epochs):\n",
    "        total_loss = 0\n",
    "        correct = 0\n",
    "        total_train = 0\n",
    "        for x_dynamic, x_static, y in train_loader:\n",
    "            \n",
    "            if torch.cuda.is_available():\n",
    "                x_dynamic = x_dynamic.cuda()\n",
    "                x_static = x_static.cuda()\n",
    "                y = y.cuda()\n",
    "            #print(x_dynamic.shape)\n",
    "            loss = svi.step(x_dynamic, x_static, y)\n",
    "            total_loss += loss\n",
    "            \n",
    "            with torch.no_grad():\n",
    "                #lifted_module = model.guide(x_dynamic, x_static, y)\n",
    "                pred_label = predict(x_dynamic, x_static)\n",
    "                #print(f\"the prediction prob is:{pred.reshape(-1)}\")\n",
    "                #pred = torch.sigmoid(pred)\n",
    "            #pred_label = (pred > 0.5).float()\n",
    "            #print(type(pred_label))\n",
    "            correct += (pred_label.reshape(-1) == y.numpy().reshape(-1)).astype(int).sum().item()\n",
    "            total_train += y.shape[0]\n",
    "            #print(pred_label.reshape(-1))\n",
    "            #print(y.shape[0])\n",
    "        epoch_loss = total_loss / total_train\n",
    "        epoch_accuracy = correct / total_train\n",
    "        train_acc_list.append(epoch_accuracy)\n",
    "        print(f\"Epoch {epoch+1}, Train Loss: {epoch_loss}, Train Accuracy: {epoch_accuracy}\")\n",
    "        train_loss_list.append(epoch_loss)\n",
    "\n",
    "        total_loss = 0\n",
    "        correct = 0\n",
    "        total = 0\n",
    "        for x_dynamic, x_static, y_val in valid_loader:\n",
    "            #model.eval()\n",
    "            if torch.cuda.is_available():\n",
    "                x_dynamic = x_dynamic.cuda()\n",
    "                x_static = x_static.cuda()\n",
    "                y_val = y_val.cuda()\n",
    "            with torch.no_grad():\n",
    "                loss = svi.evaluate_loss(x_dynamic, x_static, y_val)\n",
    "                total_loss += loss\n",
    "                #lifted_module = model.guide(x_dynamic, x_static, y)\n",
    "                pred_label = predict(x_dynamic, x_static)\n",
    "                #print(pred)\n",
    "                #pred = torch.sigmoid(pred)\n",
    "                #pred_label = (pred > 0.5).float()\n",
    "                total += y_val.shape[0]\n",
    "                correct += (pred_label.reshape(-1) == y_val.numpy().reshape(-1)).astype(int).sum().item()\n",
    "             \n",
    "            epoch_loss = total_loss / total\n",
    "        epoch_accuracy = correct / total\n",
    "        valid_acc_list.append(epoch_accuracy)\n",
    "        print(f\"Epoch {epoch+1}, Validation Loss: {epoch_loss}, Validation Accuracy: {epoch_accuracy}\")\n",
    "        valid_loss_list.append(epoch_loss)\n",
    "    return train_loss_list, train_acc_list, valid_loss_list, valid_acc_list"
   ]
  },
  {
   "cell_type": "code",
   "execution_count": 74,
   "metadata": {},
   "outputs": [
    {
     "name": "stdout",
     "output_type": "stream",
     "text": [
      "1412\n"
     ]
    }
   ],
   "source": [
    "print(len(train_loader))"
   ]
  },
  {
   "cell_type": "code",
   "execution_count": 75,
   "metadata": {},
   "outputs": [
    {
     "name": "stderr",
     "output_type": "stream",
     "text": [
      "/Users/zhaoxiuheng/anaconda3/envs/course/lib/python3.7/site-packages/pyro/primitives.py:495: FutureWarning: The `random_module` primitive is deprecated, and will be removed in a future release. Use `pyro.nn.Module` to create Bayesian modules from `torch.nn.Module` instances.\n",
      "  FutureWarning,\n"
     ]
    },
    {
     "name": "stdout",
     "output_type": "stream",
     "text": [
      "Epoch 1, Train Loss: 96.13071179601019, Train Accuracy: 0.504143059490085\n",
      "Epoch 1, Validation Loss: 83.24833237429179, Validation Accuracy: 0.5058073654390934\n",
      "Epoch 2, Train Loss: 78.63019845617391, Train Accuracy: 0.5029390934844192\n",
      "Epoch 2, Validation Loss: 67.0375497963881, Validation Accuracy: 0.5104815864022663\n",
      "Epoch 3, Train Loss: 62.10277487443122, Train Accuracy: 0.5049575070821529\n",
      "Epoch 3, Validation Loss: 55.81212044086402, Validation Accuracy: 0.506657223796034\n",
      "Epoch 4, Train Loss: 53.67342505568148, Train Accuracy: 0.5084985835694051\n",
      "Epoch 4, Validation Loss: 47.39237008675637, Validation Accuracy: 0.4998583569405099\n",
      "Epoch 5, Train Loss: 45.523496897649494, Train Accuracy: 0.5021246458923513\n",
      "Epoch 5, Validation Loss: 42.82246481055241, Validation Accuracy: 0.49773371104815867\n",
      "Epoch 6, Train Loss: 39.84612436709931, Train Accuracy: 0.5038597733711048\n",
      "Epoch 6, Validation Loss: 39.59890447946176, Validation Accuracy: 0.4934844192634561\n",
      "Epoch 7, Train Loss: 36.288999712450305, Train Accuracy: 0.4984419263456091\n",
      "Epoch 7, Validation Loss: 34.70902310552408, Validation Accuracy: 0.49164305949008497\n",
      "Epoch 8, Train Loss: 34.21520745806586, Train Accuracy: 0.49610481586402266\n",
      "Epoch 8, Validation Loss: 32.422132834631725, Validation Accuracy: 0.49320113314447594\n",
      "Epoch 9, Train Loss: 30.857701325230828, Train Accuracy: 0.500814447592068\n",
      "Epoch 9, Validation Loss: 30.381237827549576, Validation Accuracy: 0.4869688385269122\n",
      "Epoch 10, Train Loss: 28.962415616598413, Train Accuracy: 0.5007790368271955\n",
      "Epoch 10, Validation Loss: 27.96546786473088, Validation Accuracy: 0.5069405099150142\n",
      "Epoch 11, Train Loss: 27.453297185062013, Train Accuracy: 0.5007436260623229\n",
      "Epoch 11, Validation Loss: 25.925943918201135, Validation Accuracy: 0.503257790368272\n",
      "Epoch 12, Train Loss: 25.766943736657204, Train Accuracy: 0.4986189801699717\n"
     ]
    }
   ],
   "source": [
    "#net = BayesianLSTM(dyn_channels=5, stat_channels=32, hidden_size=50, num_layers=2)\n",
    "train_loss_list, train_acc_list, valid_loss_list, valid_acc_list = train(model, guide, train_loader, valid_loader, num_epochs=30)"
   ]
  },
  {
   "cell_type": "code",
   "execution_count": null,
   "metadata": {},
   "outputs": [
    {
     "data": {
      "text/plain": [
       "Text(0.5, 1.0, 'Accuracy curve')"
      ]
     },
     "execution_count": 31,
     "metadata": {},
     "output_type": "execute_result"
    },
    {
     "data": {
      "image/png": "[encoded data removed]",
      "text/plain": [
       "<Figure size 640x480 with 1 Axes>"
      ]
     },
     "metadata": {},
     "output_type": "display_data"
    },
    {
     "data": {
      "image/png": "[encoded data removed]",
      "text/plain": [
       "<Figure size 640x480 with 1 Axes>"
      ]
     },
     "metadata": {},
     "output_type": "display_data"
    }
   ],
   "source": [
    "plt.figure()\n",
    "plt.plot(train_loss_list, label=\"train_loss\")\n",
    "plt.plot(valid_loss_list, label=\"valid_loss\")\n",
    "plt.legend()\n",
    "plt.title(f\"Loss curve\")\n",
    "\n",
    "plt.figure()\n",
    "plt.plot(train_acc_list, label=\"train_acc\")\n",
    "plt.plot(valid_acc_list, label=\"valid_acc\")\n",
    "plt.legend()\n",
    "plt.title(f\"Accuracy curve\")"
   ]
  },
  {
   "cell_type": "code",
   "execution_count": null,
   "metadata": {},
   "outputs": [],
   "source": [
    "batch_size=20\n",
    "test_df = pd.read_pickle('test.pkl').reset_index(drop=True)\n",
    "        \n",
    "class_0 = test_df[test_df['label'] == 0]\n",
    "class_1 = test_df[test_df['label'] == 1]\n",
    "n_samples = len(class_1) \n",
    "class_0_downsampled = class_0.sample(n_samples)\n",
    "df_balanced = pd.concat([class_0_downsampled, class_1])\n",
    "test_df = df_balanced.reset_index(drop=True)\n",
    "      \n",
    "N = len(test_df)\n",
    "test_df = test_df.sample(frac=1).reset_index(drop=True)\n",
    "test_df.fillna(value=np.pi, inplace=True)\n",
    "test_dataset = SequenceDataset(test_df)\n",
    "test_num = len(test_dataset)\n",
    "\n",
    "    \n",
    "test_loader = torch.utils.data.DataLoader(test_dataset,\n",
    "                                               batch_size=batch_size,\n",
    "                                               num_workers=nw, shuffle = False)"
   ]
  },
  {
   "cell_type": "code",
   "execution_count": null,
   "metadata": {},
   "outputs": [
    {
     "name": "stderr",
     "output_type": "stream",
     "text": [
      "/Users/zhaoxiuheng/anaconda3/envs/course/lib/python3.7/site-packages/pyro/primitives.py:495: FutureWarning: The `random_module` primitive is deprecated, and will be removed in a future release. Use `pyro.nn.Module` to create Bayesian modules from `torch.nn.Module` instances.\n",
      "  FutureWarning,\n"
     ]
    },
    {
     "ename": "AttributeError",
     "evalue": "'bool' object has no attribute 'astype'",
     "output_type": "error",
     "traceback": [
      "\u001b[0;31m---------------------------------------------------------------------------\u001b[0m",
      "\u001b[0;31mAttributeError\u001b[0m                            Traceback (most recent call last)",
      "\u001b[0;32m/var/folders/xq/37sksygx4qv7jb_hjf_vww6r0000gn/T/ipykernel_63324/643285830.py\u001b[0m in \u001b[0;36m<module>\u001b[0;34m\u001b[0m\n\u001b[1;32m     14\u001b[0m                 \u001b[0mpred_label\u001b[0m \u001b[0;34m=\u001b[0m \u001b[0mpredict\u001b[0m\u001b[0;34m(\u001b[0m\u001b[0mx_dynamic\u001b[0m\u001b[0;34m,\u001b[0m \u001b[0mx_static\u001b[0m\u001b[0;34m,\u001b[0m \u001b[0mmodel\u001b[0m\u001b[0;34m.\u001b[0m\u001b[0mmodel\u001b[0m\u001b[0;34m,\u001b[0m \u001b[0mmodel\u001b[0m\u001b[0;34m.\u001b[0m\u001b[0mguide\u001b[0m\u001b[0;34m)\u001b[0m\u001b[0;34m\u001b[0m\u001b[0;34m\u001b[0m\u001b[0m\n\u001b[1;32m     15\u001b[0m                 \u001b[0mtotal\u001b[0m \u001b[0;34m+=\u001b[0m \u001b[0my\u001b[0m\u001b[0;34m.\u001b[0m\u001b[0mshape\u001b[0m\u001b[0;34m[\u001b[0m\u001b[0;36m0\u001b[0m\u001b[0;34m]\u001b[0m\u001b[0;34m\u001b[0m\u001b[0;34m\u001b[0m\u001b[0m\n\u001b[0;32m---> 16\u001b[0;31m                 \u001b[0mcorrect\u001b[0m \u001b[0;34m+=\u001b[0m \u001b[0;34m(\u001b[0m\u001b[0mpred_label\u001b[0m\u001b[0;34m.\u001b[0m\u001b[0mreshape\u001b[0m\u001b[0;34m(\u001b[0m\u001b[0;34m-\u001b[0m\u001b[0;36m1\u001b[0m\u001b[0;34m)\u001b[0m \u001b[0;34m==\u001b[0m \u001b[0my\u001b[0m\u001b[0;34m.\u001b[0m\u001b[0mnumpy\u001b[0m\u001b[0;34m(\u001b[0m\u001b[0;34m)\u001b[0m\u001b[0;34m.\u001b[0m\u001b[0mreshape\u001b[0m\u001b[0;34m(\u001b[0m\u001b[0;34m-\u001b[0m\u001b[0;36m1\u001b[0m\u001b[0;34m)\u001b[0m\u001b[0;34m)\u001b[0m\u001b[0;34m.\u001b[0m\u001b[0mastype\u001b[0m\u001b[0;34m(\u001b[0m\u001b[0mint\u001b[0m\u001b[0;34m)\u001b[0m\u001b[0;34m.\u001b[0m\u001b[0msum\u001b[0m\u001b[0;34m(\u001b[0m\u001b[0;34m)\u001b[0m\u001b[0;34m.\u001b[0m\u001b[0mitem\u001b[0m\u001b[0;34m(\u001b[0m\u001b[0;34m)\u001b[0m\u001b[0;34m\u001b[0m\u001b[0;34m\u001b[0m\u001b[0m\n\u001b[0m\u001b[1;32m     17\u001b[0m                 \u001b[0my_true\u001b[0m\u001b[0;34m.\u001b[0m\u001b[0mappend\u001b[0m\u001b[0;34m(\u001b[0m\u001b[0my\u001b[0m\u001b[0;34m.\u001b[0m\u001b[0mreshape\u001b[0m\u001b[0;34m(\u001b[0m\u001b[0;34m-\u001b[0m\u001b[0;36m1\u001b[0m\u001b[0;34m)\u001b[0m\u001b[0;34m)\u001b[0m\u001b[0;34m\u001b[0m\u001b[0;34m\u001b[0m\u001b[0m\n\u001b[1;32m     18\u001b[0m                 \u001b[0my_pred\u001b[0m\u001b[0;34m.\u001b[0m\u001b[0mappend\u001b[0m\u001b[0;34m(\u001b[0m\u001b[0mpred_label\u001b[0m\u001b[0;34m.\u001b[0m\u001b[0mreshape\u001b[0m\u001b[0;34m(\u001b[0m\u001b[0;34m-\u001b[0m\u001b[0;36m1\u001b[0m\u001b[0;34m)\u001b[0m\u001b[0;34m)\u001b[0m\u001b[0;34m\u001b[0m\u001b[0;34m\u001b[0m\u001b[0m\n",
      "\u001b[0;31mAttributeError\u001b[0m: 'bool' object has no attribute 'astype'"
     ]
    }
   ],
   "source": [
    "correct = 0\n",
    "total = 0\n",
    "y_true=[]\n",
    "y_pred=[]\n",
    "for x_dynamic, x_static, y in test_loader:\n",
    "            \n",
    "            if torch.cuda.is_available():\n",
    "                x_dynamic = x_dynamic.cuda()\n",
    "                x_static = x_static.cuda()\n",
    "                y = y.cuda()\n",
    "            y = y.float()\n",
    "            \n",
    "            lifted_module = model.guide(x_dynamic, x_static, y)\n",
    "            pred_label = predict(x_dynamic, x_static)\n",
    "            total += y.shape[0]\n",
    "            correct += (pred_label.reshape(-1) == y.numpy().reshape(-1)).astype(int).sum().item()\n",
    "            y_true.append(y.reshape(-1))\n",
    "            y_pred.append(pred_label.reshape(-1))\n",
    "\n",
    "print(f\"the test accuracy is {correct/total}\")"
   ]
  },
  {
   "cell_type": "code",
   "execution_count": null,
   "metadata": {},
   "outputs": [],
   "source": [
    "from sklearn.metrics import confusion_matrix\n",
    "from sklearn.metrics import roc_auc_score\n",
    "import seaborn as sns\n",
    "y_true = np.concatenate(y_true)\n",
    "y_pred = np.concatenate(y_pred)\n",
    "CM = confusion_matrix(y_true, y_pred)\n",
    "#auc_score = roc_auc_score(y_true, y_prob_list, multi_class='ovr')\n",
    "plt.figure(figsize=(8, 6))\n",
    "sns.heatmap(CM, annot=True, fmt=\"d\", cmap='Blues')#, xticklabels=labels, yticklabels=labels)\n",
    "plt.xlabel('Predicted Labels')\n",
    "plt.ylabel('True Labels')\n",
    "plt.title('Confusion Matrix')\n",
    "plt.show()"
   ]
  },
  {
   "cell_type": "code",
   "execution_count": null,
   "metadata": {},
   "outputs": [],
   "source": [
    "torch.save(model.state_dict(), 'result/blstm.pth')"
   ]
  },
  {
   "cell_type": "code",
   "execution_count": null,
   "metadata": {},
   "outputs": [],
   "source": [
    "for name, param in model.named_parameters():\n",
    "    print(f\"{name} has values: \\n{param.data}\")"
   ]
  }
 ],
 "metadata": {
  "kernelspec": {
   "display_name": "course",
   "language": "python",
   "name": "python3"
  },
  "language_info": {
   "codemirror_mode": {
    "name": "ipython",
    "version": 3
   },
   "file_extension": ".py",
   "mimetype": "text/x-python",
   "name": "python",
   "nbconvert_exporter": "python",
   "pygments_lexer": "ipython3",
   "version": "3.7.16"
  }
 },
 "nbformat": 4,
 "nbformat_minor": 2
}
